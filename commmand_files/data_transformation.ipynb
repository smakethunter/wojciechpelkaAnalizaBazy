{
 "cells": [
  {
   "cell_type": "code",
   "execution_count": null,
   "metadata": {
    "collapsed": true
   },
   "outputs": [],
   "source": [
    "header_length = len('MX000017004195504TMAX')\n",
    "lines = []\n",
    "\n",
    "with open('../original_data/weather.txt','r') as f:\n",
    "    for l in f:\n",
    "        records = []\n",
    "        header = l[:header_length]\n",
    "        line = l[header_length:]\n",
    "        for i, rec in enumerate(range(31)):\n",
    "            rec = line[rec*8:rec*8+8]\n",
    "            if rec:\n",
    "                rec_l = list(rec)\n",
    "                rec_l[5] = ','\n",
    "                rec = ''.join(rec_l)\n",
    "                rec = rec.replace(' ','')\n",
    "                rec = rec.replace('-9999','')\n",
    "                records.append(rec)\n",
    "            else:\n",
    "                records.append(',')\n",
    "\n",
    "        if len(records)==31:\n",
    "            row = header+','+','.join(records)\n",
    "            row+='\\n'\n",
    "            lines.append(row)\n",
    "\n",
    "\n",
    "with open('../analisys_data/file.csv','w') as f:\n",
    "    desc = 'Stat,'+','.join([f'{i},info_{i}' for i in range(1,32)])+'\\n'\n",
    "    f.write(desc)\n",
    "    for l in lines:\n",
    "        f.write(l)\n",
    "\n"
   ]
  }
 ],
 "metadata": {
  "kernelspec": {
   "display_name": "Python 3",
   "language": "python",
   "name": "python3"
  },
  "language_info": {
   "codemirror_mode": {
    "name": "ipython",
    "version": 2
   },
   "file_extension": ".py",
   "mimetype": "text/x-python",
   "name": "python",
   "nbconvert_exporter": "python",
   "pygments_lexer": "ipython2",
   "version": "2.7.6"
  }
 },
 "nbformat": 4,
 "nbformat_minor": 0
}