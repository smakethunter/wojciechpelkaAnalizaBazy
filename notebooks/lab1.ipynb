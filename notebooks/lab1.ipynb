{
 "cells": [
  {
   "cell_type": "code",
   "execution_count": 4,
   "metadata": {
    "collapsed": true
   },
   "outputs": [
    {
     "data": {
      "text/plain": "<Figure size 432x288 with 3 Axes>",
      "image/png": "[encoded data removed]"
     },
     "metadata": {
      "needs_background": "light"
     },
     "output_type": "display_data"
    }
   ],
   "source": [
    "\n",
    "import numpy as np\n",
    "import pandas as pd\n",
    "import matplotlib.pyplot as plt"
   ]
  },
  {
   "cell_type": "markdown",
   "source": [
    "##Zadanie 3"
   ],
   "metadata": {
    "collapsed": false,
    "pycharm": {
     "name": "#%% md\n"
    }
   }
  },
  {
   "cell_type": "code",
   "execution_count": null,
   "outputs": [],
   "source": [
    "def f(x):\n",
    "    return x**2+5\n",
    "ls1 = np.linspace(-1,1,100)\n",
    "ls2 = np.linspace(-6,6,100)\n",
    "ls3 = np.linspace(0,5,100)\n",
    "\n",
    "fig,ax = plt.subplots(1,3)\n",
    "\n",
    "ax[0].plot(ls1,f(ls1))\n",
    "ax[1].plot(ls2,f(ls2))\n",
    "ax[2].plot(ls3,f(ls3))\n",
    "for i in range(3):\n",
    "    ax[i].set_title('y=f(x)')\n",
    "    ax[i].set_xlabel('x')\n",
    "    ax[i].set_ylabel('y')"
   ],
   "metadata": {
    "collapsed": false,
    "pycharm": {
     "name": "#%%\n"
    }
   }
  },
  {
   "cell_type": "markdown",
   "source": [
    "##Zadanie 4\n",
    "\n",
    "Utwórz dataframe, w którym kolumny mają nazwy: name, surname, age, sex. Uzupełnij pięcioma dowolnymi rekordami oraz wyświetl informacje o danych pandas .info(), opis danych pandas .describe(), wyświetl pierwsze trzy rekordy pandas .head().\n",
    "\n",
    "Plik z rozwiązaniem zadania 3 i zadania 4 opatrzonym komentarzami, dodaj do kursu na upel.agh.edu.pl"
   ],
   "metadata": {
    "collapsed": false
   }
  },
  {
   "cell_type": "code",
   "execution_count": 5,
   "outputs": [
    {
     "name": "stdout",
     "output_type": "stream",
     "text": [
      "<class 'pandas.core.frame.DataFrame'>\n",
      "RangeIndex: 5 entries, 0 to 4\n",
      "Data columns (total 4 columns):\n",
      " #   Column   Non-Null Count  Dtype  \n",
      "---  ------   --------------  -----  \n",
      " 0   name     5 non-null      float64\n",
      " 1   surname  5 non-null      float64\n",
      " 2   age      5 non-null      float64\n",
      " 3   sex      5 non-null      float64\n",
      "dtypes: float64(4)\n",
      "memory usage: 288.0 bytes\n"
     ]
    }
   ],
   "source": [
    "df = pd.DataFrame(data=np.random.rand(5,4), columns=['name', 'surname', 'age', 'sex'])\n",
    "df.info()"
   ],
   "metadata": {
    "collapsed": false,
    "pycharm": {
     "name": "#%%\n"
    }
   }
  },
  {
   "cell_type": "code",
   "execution_count": 6,
   "outputs": [
    {
     "data": {
      "text/plain": "           name   surname       age       sex\ncount  5.000000  5.000000  5.000000  5.000000\nmean   0.587028  0.546201  0.251596  0.425234\nstd    0.157342  0.190687  0.110007  0.343238\nmin    0.402801  0.297937  0.120048  0.126856\n25%    0.464111  0.450412  0.194061  0.156710\n50%    0.579643  0.531506  0.226336  0.246595\n75%    0.729145  0.654616  0.313042  0.785984\nmax    0.759441  0.796534  0.404491  0.810023",
      "text/html": "<div>\n<style scoped>\n    .dataframe tbody tr th:only-of-type {\n        vertical-align: middle;\n    }\n\n    .dataframe tbody tr th {\n        vertical-align: top;\n    }\n\n    .dataframe thead th {\n        text-align: right;\n    }\n</style>\n<table border=\"1\" class=\"dataframe\">\n  <thead>\n    <tr style=\"text-align: right;\">\n      <th></th>\n      <th>name</th>\n      <th>surname</th>\n      <th>age</th>\n      <th>sex</th>\n    </tr>\n  </thead>\n  <tbody>\n    <tr>\n      <th>count</th>\n      <td>5.000000</td>\n      <td>5.000000</td>\n      <td>5.000000</td>\n      <td>5.000000</td>\n    </tr>\n    <tr>\n      <th>mean</th>\n      <td>0.587028</td>\n      <td>0.546201</td>\n      <td>0.251596</td>\n      <td>0.425234</td>\n    </tr>\n    <tr>\n      <th>std</th>\n      <td>0.157342</td>\n      <td>0.190687</td>\n      <td>0.110007</td>\n      <td>0.343238</td>\n    </tr>\n    <tr>\n      <th>min</th>\n      <td>0.402801</td>\n      <td>0.297937</td>\n      <td>0.120048</td>\n      <td>0.126856</td>\n    </tr>\n    <tr>\n      <th>25%</th>\n      <td>0.464111</td>\n      <td>0.450412</td>\n      <td>0.194061</td>\n      <td>0.156710</td>\n    </tr>\n    <tr>\n      <th>50%</th>\n      <td>0.579643</td>\n      <td>0.531506</td>\n      <td>0.226336</td>\n      <td>0.246595</td>\n    </tr>\n    <tr>\n      <th>75%</th>\n      <td>0.729145</td>\n      <td>0.654616</td>\n      <td>0.313042</td>\n      <td>0.785984</td>\n    </tr>\n    <tr>\n      <th>max</th>\n      <td>0.759441</td>\n      <td>0.796534</td>\n      <td>0.404491</td>\n      <td>0.810023</td>\n    </tr>\n  </tbody>\n</table>\n</div>"
     },
     "execution_count": 6,
     "metadata": {},
     "output_type": "execute_result"
    }
   ],
   "source": [
    "df.describe()\n",
    "\n"
   ],
   "metadata": {
    "collapsed": false,
    "pycharm": {
     "name": "#%%\n"
    }
   }
  },
  {
   "cell_type": "code",
   "execution_count": null,
   "outputs": [],
   "source": [],
   "metadata": {
    "collapsed": false,
    "pycharm": {
     "name": "#%%\n"
    }
   }
  }
 ],
 "metadata": {
  "kernelspec": {
   "display_name": "Python 3",
   "language": "python",
   "name": "python3"
  },
  "language_info": {
   "codemirror_mode": {
    "name": "ipython",
    "version": 2
   },
   "file_extension": ".py",
   "mimetype": "text/x-python",
   "name": "python",
   "nbconvert_exporter": "python",
   "pygments_lexer": "ipython2",
   "version": "2.7.6"
  }
 },
 "nbformat": 4,
 "nbformat_minor": 0
}