{
 "cells": [
  {
   "cell_type": "code",
   "execution_count": null,
   "metadata": {
    "collapsed": true
   },
   "outputs": [],
   "source": [
    "import numpy as np\n",
    "import pandas as pd\n",
    "import matplotlib.pyplot as plt\n",
    "def f(x):\n",
    "    return x**2+5\n",
    "ls1 = np.linspace(-1,1,100)\n",
    "ls2 = np.linspace(-6,6,100)\n",
    "ls3 = np.linspace(0,5,100)\n",
    "\n",
    "fig,ax = plt.subplots(3,1)\n",
    "ax[0].plot(ls1,f(ls1))\n",
    "ax[1].plot(ls2,f(ls2))\n",
    "ax[2].plot(ls3,f(ls3))\n",
    "ax.set_title('y=f(x)')\n"
   ]
  }
 ],
 "metadata": {
  "kernelspec": {
   "display_name": "Python 3",
   "language": "python",
   "name": "python3"
  },
  "language_info": {
   "codemirror_mode": {
    "name": "ipython",
    "version": 2
   },
   "file_extension": ".py",
   "mimetype": "text/x-python",
   "name": "python",
   "nbconvert_exporter": "python",
   "pygments_lexer": "ipython2",
   "version": "2.7.6"
  }
 },
 "nbformat": 4,
 "nbformat_minor": 0
}